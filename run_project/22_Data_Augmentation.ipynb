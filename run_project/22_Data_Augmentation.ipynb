{
 "cells": [
  {
   "cell_type": "code",
   "execution_count": 1,
   "metadata": {},
   "outputs": [
    {
     "name": "stdout",
     "output_type": "stream",
     "text": [
      "Found 160 images belonging to 2 classes.\n",
      "Found 120 images belonging to 2 classes.\n",
      "Epoch 1/20\n",
      "100/100 [==============================] - 19s 187ms/step - loss: 0.6949 - accuracy: 0.5340 - val_loss: 0.6678 - val_accuracy: 0.5400\n",
      "Epoch 2/20\n",
      "100/100 [==============================] - 18s 177ms/step - loss: 0.6546 - accuracy: 0.6460 - val_loss: 0.5789 - val_accuracy: 0.6400\n",
      "Epoch 3/20\n",
      "100/100 [==============================] - 19s 185ms/step - loss: 0.5827 - accuracy: 0.6880 - val_loss: 0.4814 - val_accuracy: 0.7800\n",
      "Epoch 4/20\n",
      "100/100 [==============================] - 18s 178ms/step - loss: 0.4454 - accuracy: 0.8320 - val_loss: 0.2943 - val_accuracy: 0.9400\n",
      "Epoch 5/20\n",
      "100/100 [==============================] - 18s 181ms/step - loss: 0.2782 - accuracy: 0.9060 - val_loss: 0.1404 - val_accuracy: 0.9600\n",
      "Epoch 6/20\n",
      "100/100 [==============================] - 18s 182ms/step - loss: 0.1947 - accuracy: 0.9340 - val_loss: 0.1087 - val_accuracy: 0.9600\n",
      "Epoch 7/20\n",
      "100/100 [==============================] - 18s 183ms/step - loss: 0.1927 - accuracy: 0.9400 - val_loss: 0.1120 - val_accuracy: 0.9600\n",
      "Epoch 8/20\n",
      "100/100 [==============================] - 19s 185ms/step - loss: 0.1442 - accuracy: 0.9520 - val_loss: 0.0797 - val_accuracy: 0.9600\n",
      "Epoch 9/20\n",
      "100/100 [==============================] - 19s 189ms/step - loss: 0.1463 - accuracy: 0.9420 - val_loss: 0.0733 - val_accuracy: 0.9800\n",
      "Epoch 10/20\n",
      "100/100 [==============================] - 18s 178ms/step - loss: 0.1162 - accuracy: 0.9660 - val_loss: 0.0653 - val_accuracy: 0.9600\n",
      "Epoch 11/20\n",
      "100/100 [==============================] - 18s 179ms/step - loss: 0.0704 - accuracy: 0.9800 - val_loss: 0.1280 - val_accuracy: 0.9400\n",
      "Epoch 12/20\n",
      "100/100 [==============================] - 18s 181ms/step - loss: 0.1136 - accuracy: 0.9600 - val_loss: 0.0751 - val_accuracy: 0.9800\n",
      "Epoch 13/20\n",
      "100/100 [==============================] - 18s 178ms/step - loss: 0.0698 - accuracy: 0.9780 - val_loss: 0.0560 - val_accuracy: 0.9800\n",
      "Epoch 14/20\n",
      "100/100 [==============================] - 18s 175ms/step - loss: 0.0793 - accuracy: 0.9760 - val_loss: 0.1561 - val_accuracy: 0.9200\n",
      "Epoch 15/20\n",
      "100/100 [==============================] - 18s 178ms/step - loss: 0.0646 - accuracy: 0.9700 - val_loss: 0.0408 - val_accuracy: 0.9800\n",
      "Epoch 16/20\n",
      "100/100 [==============================] - 18s 180ms/step - loss: 0.0722 - accuracy: 0.9840 - val_loss: 0.0434 - val_accuracy: 0.9800\n",
      "Epoch 17/20\n",
      "100/100 [==============================] - 18s 181ms/step - loss: 0.0583 - accuracy: 0.9780 - val_loss: 0.0382 - val_accuracy: 0.9800\n",
      "Epoch 18/20\n",
      "100/100 [==============================] - 18s 177ms/step - loss: 0.0767 - accuracy: 0.9740 - val_loss: 0.0608 - val_accuracy: 0.9600\n",
      "Epoch 19/20\n",
      "100/100 [==============================] - 18s 178ms/step - loss: 0.0739 - accuracy: 0.9800 - val_loss: 0.1297 - val_accuracy: 0.9200\n",
      "Epoch 20/20\n",
      "100/100 [==============================] - 19s 185ms/step - loss: 0.0497 - accuracy: 0.9880 - val_loss: 0.0857 - val_accuracy: 0.9600\n"
     ]
    },
    {
     "data": {
      "text/plain": [
       "<Figure size 640x480 with 1 Axes>"
      ]
     },
     "metadata": {},
     "output_type": "display_data"
    }
   ],
   "source": [
    "import tensorflow as tf\n",
    "import numpy as np\n",
    "import matplotlib.pyplot as plt\n",
    "\n",
    "from tensorflow.keras.models import Sequential\n",
    "from tensorflow.keras.layers import Dense, Activation, Dropout, Flatten, Dense, Conv2D, MaxPooling2D\n",
    "from tensorflow.keras.preprocessing.image import ImageDataGenerator\n",
    "from tensorflow.keras import optimizers, initializers, regularizers, metrics\n",
    "\n",
    "np.random.seed(3)\n",
    "tf.random.set_seed(3)\n",
    "\n",
    "train_datagen = ImageDataGenerator(rescale=1./255,\n",
    "                                  horizontal_flip=True,     #수평 대칭 이미지를 50% 확률로 만들어 추가합니다.\n",
    "                                  width_shift_range=0.1,  #전체 크기의 10% 범위에서 좌우로 이동합니다.\n",
    "                                  height_shift_range=0.1, #마찬가지로 위, 아래로 이동합니다.\n",
    "                                  #rotation_range=5,\n",
    "                                  #shear_range=0.7,\n",
    "                                  #zoom_range=[0.9, 2.2],\n",
    "                                  #vertical_flip=True,\n",
    "                                  fill_mode='nearest') \n",
    "\n",
    "train_generator = train_datagen.flow_from_directory(\n",
    "       './train',   #학습셋이 있는 폴더의 위치입니다.\n",
    "       target_size=(150, 150),\n",
    "       batch_size=5,\n",
    "       class_mode='binary')\n",
    "\n",
    "#테스트 셋은 이미지 부풀리기 과정을 진행하지 않습니다.\n",
    "test_datagen = ImageDataGenerator(rescale=1./255)  \n",
    "\n",
    "test_generator = test_datagen.flow_from_directory(\n",
    "       './test',   #테스트셋이 있는 폴더의 위치입니다.\n",
    "       target_size=(150, 150),\n",
    "       batch_size=5,\n",
    "       class_mode='binary')\n",
    "\n",
    "\n",
    "# 앞서 배운 CNN 모델을 만들어 적용해 보겠습니다.\n",
    "model = Sequential()\n",
    "model.add(Conv2D(32, (3, 3), input_shape=(150,150,3)))\n",
    "model.add(Activation('relu'))\n",
    "model.add(MaxPooling2D(pool_size=(2, 2)))\n",
    "\n",
    "model.add(Conv2D(32, (3, 3)))\n",
    "model.add(Activation('relu'))\n",
    "model.add(MaxPooling2D(pool_size=(2, 2)))\n",
    "\n",
    "model.add(Conv2D(64, (3, 3)))\n",
    "model.add(Activation('relu'))\n",
    "model.add(MaxPooling2D(pool_size=(2, 2)))\n",
    "\n",
    "model.add(Flatten())\n",
    "model.add(Dense(64))\n",
    "model.add(Activation('relu'))\n",
    "model.add(Dropout(0.5))\n",
    "model.add(Dense(2))\n",
    "model.add(Activation('softmax'))\n",
    "\n",
    "#모델을 컴파일 합니다. \n",
    "model.compile(loss='sparse_categorical_crossentropy', optimizer=optimizers.Adam(learning_rate=0.0002), metrics=['accuracy'])\n",
    "\n",
    "#모델을 실행합니다\n",
    "history = model.fit_generator(\n",
    "       train_generator,\n",
    "       steps_per_epoch=100,\n",
    "       epochs=20,\n",
    "       validation_data=test_generator,\n",
    "       validation_steps=10)\n",
    "\n",
    "#결과를 그래프로 표현하는 부분입니다.\n",
    "acc= history.history['accuracy']\n",
    "val_acc= history.history['val_accuracy']\n",
    "y_vloss = history.history['val_loss']\n",
    "y_loss = history.history['loss']\n",
    "\n",
    "x_len = np.arange(len(y_loss))  \n",
    "plt.plot(x_len, acc, marker='.', c=\"red\", label='Trainset_acc')\n",
    "plt.plot(x_len, val_acc, marker='.', c=\"lightcoral\", label='Testset_acc')\n",
    "plt.plot(x_len, y_vloss, marker='.', c=\"cornflowerblue\", label='Testset_loss')\n",
    "plt.plot(x_len, y_loss, marker='.', c=\"blue\", label='Trainset_loss')\n",
    "\n",
    "plt.legend(loc='upper right') \n",
    "plt.grid()\n",
    "plt.xlabel('epoch')\n",
    "plt.ylabel('loss/acc')\n",
    "plt.show()\n"
   ]
  },
  {
   "cell_type": "code",
   "execution_count": 2,
   "metadata": {},
   "outputs": [
    {
     "data": {
      "image/png": "[encoded data removed]",
      "text/plain": [
       "<Figure size 432x288 with 1 Axes>"
      ]
     },
     "metadata": {
      "needs_background": "light"
     },
     "output_type": "display_data"
    }
   ],
   "source": [
    "#결과를 그래프로 표현하는 부분입니다.\n",
    "acc= history.history['accuracy']\n",
    "val_acc= history.history['val_accuracy']\n",
    "y_vloss = history.history['val_loss']\n",
    "y_loss = history.history['loss']\n",
    "\n",
    "x_len = np.arange(len(y_loss))  \n",
    "plt.plot(x_len, acc, marker='.', c=\"red\", label='Trainset_acc')\n",
    "plt.plot(x_len, val_acc, marker='.', c=\"lightcoral\", label='Testset_acc')\n",
    "plt.plot(x_len, y_vloss, marker='.', c=\"cornflowerblue\", label='Testset_loss')\n",
    "plt.plot(x_len, y_loss, marker='.', c=\"blue\", label='Trainset_loss')\n",
    "\n",
    "plt.legend(loc='upper right') \n",
    "plt.grid()\n",
    "plt.xlabel('epoch')\n",
    "plt.ylabel('loss/acc')\n",
    "plt.show()"
   ]
  }
 ],
 "metadata": {
  "kernelspec": {
   "display_name": "Python 3",
   "language": "python",
   "name": "python3"
  },
  "language_info": {
   "codemirror_mode": {
    "name": "ipython",
    "version": 3
   },
   "file_extension": ".py",
   "mimetype": "text/x-python",
   "name": "python",
   "nbconvert_exporter": "python",
   "pygments_lexer": "ipython3",
   "version": "3.7.3"
  }
 },
 "nbformat": 4,
 "nbformat_minor": 2
}
